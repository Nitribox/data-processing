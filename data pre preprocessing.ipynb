{
 "cells": [
  {
   "cell_type": "code",
   "execution_count": 1,
   "metadata": {
    "executionInfo": {
     "elapsed": 444,
     "status": "ok",
     "timestamp": 1726811563536,
     "user": {
      "displayName": "KAUSHAL DWIVEDI[UCOE -4669]",
      "userId": "05485688838310313146"
     },
     "user_tz": -330
    },
    "id": "DGPbi0vs-KSs"
   },
   "outputs": [],
   "source": [
    "\n",
    "# Import necessary libraries\n",
    "import pandas as pd\n",
    "import numpy as np\n",
    "import seaborn as sns\n",
    "import matplotlib.pyplot as plt\n",
    "from sklearn.impute import SimpleImputer\n",
    "from sklearn.preprocessing import StandardScaler, LabelEncoder"
   ]
  },
  {
   "cell_type": "code",
   "execution_count": 2,
   "metadata": {
    "executionInfo": {
     "elapsed": 445,
     "status": "ok",
     "timestamp": 1726811606876,
     "user": {
      "displayName": "KAUSHAL DWIVEDI[UCOE -4669]",
      "userId": "05485688838310313146"
     },
     "user_tz": -330
    },
    "id": "tXVYCt2F_aPc"
   },
   "outputs": [
    {
     "ename": "FileNotFoundError",
     "evalue": "[Errno 2] No such file or directory: '/content/train.csv'",
     "output_type": "error",
     "traceback": [
      "\u001b[1;31m---------------------------------------------------------------------------\u001b[0m",
      "\u001b[1;31mFileNotFoundError\u001b[0m                         Traceback (most recent call last)",
      "Cell \u001b[1;32mIn[2], line 2\u001b[0m\n\u001b[0;32m      1\u001b[0m \u001b[38;5;66;03m# Load the dataset\u001b[39;00m\n\u001b[1;32m----> 2\u001b[0m loan_data \u001b[38;5;241m=\u001b[39m pd\u001b[38;5;241m.\u001b[39mread_csv(\u001b[38;5;124m'\u001b[39m\u001b[38;5;124m/content/train.csv\u001b[39m\u001b[38;5;124m'\u001b[39m)\n",
      "File \u001b[1;32m~\\anaconda3\\Lib\\site-packages\\pandas\\io\\parsers\\readers.py:1026\u001b[0m, in \u001b[0;36mread_csv\u001b[1;34m(filepath_or_buffer, sep, delimiter, header, names, index_col, usecols, dtype, engine, converters, true_values, false_values, skipinitialspace, skiprows, skipfooter, nrows, na_values, keep_default_na, na_filter, verbose, skip_blank_lines, parse_dates, infer_datetime_format, keep_date_col, date_parser, date_format, dayfirst, cache_dates, iterator, chunksize, compression, thousands, decimal, lineterminator, quotechar, quoting, doublequote, escapechar, comment, encoding, encoding_errors, dialect, on_bad_lines, delim_whitespace, low_memory, memory_map, float_precision, storage_options, dtype_backend)\u001b[0m\n\u001b[0;32m   1013\u001b[0m kwds_defaults \u001b[38;5;241m=\u001b[39m _refine_defaults_read(\n\u001b[0;32m   1014\u001b[0m     dialect,\n\u001b[0;32m   1015\u001b[0m     delimiter,\n\u001b[1;32m   (...)\u001b[0m\n\u001b[0;32m   1022\u001b[0m     dtype_backend\u001b[38;5;241m=\u001b[39mdtype_backend,\n\u001b[0;32m   1023\u001b[0m )\n\u001b[0;32m   1024\u001b[0m kwds\u001b[38;5;241m.\u001b[39mupdate(kwds_defaults)\n\u001b[1;32m-> 1026\u001b[0m \u001b[38;5;28;01mreturn\u001b[39;00m _read(filepath_or_buffer, kwds)\n",
      "File \u001b[1;32m~\\anaconda3\\Lib\\site-packages\\pandas\\io\\parsers\\readers.py:620\u001b[0m, in \u001b[0;36m_read\u001b[1;34m(filepath_or_buffer, kwds)\u001b[0m\n\u001b[0;32m    617\u001b[0m _validate_names(kwds\u001b[38;5;241m.\u001b[39mget(\u001b[38;5;124m\"\u001b[39m\u001b[38;5;124mnames\u001b[39m\u001b[38;5;124m\"\u001b[39m, \u001b[38;5;28;01mNone\u001b[39;00m))\n\u001b[0;32m    619\u001b[0m \u001b[38;5;66;03m# Create the parser.\u001b[39;00m\n\u001b[1;32m--> 620\u001b[0m parser \u001b[38;5;241m=\u001b[39m TextFileReader(filepath_or_buffer, \u001b[38;5;241m*\u001b[39m\u001b[38;5;241m*\u001b[39mkwds)\n\u001b[0;32m    622\u001b[0m \u001b[38;5;28;01mif\u001b[39;00m chunksize \u001b[38;5;129;01mor\u001b[39;00m iterator:\n\u001b[0;32m    623\u001b[0m     \u001b[38;5;28;01mreturn\u001b[39;00m parser\n",
      "File \u001b[1;32m~\\anaconda3\\Lib\\site-packages\\pandas\\io\\parsers\\readers.py:1620\u001b[0m, in \u001b[0;36mTextFileReader.__init__\u001b[1;34m(self, f, engine, **kwds)\u001b[0m\n\u001b[0;32m   1617\u001b[0m     \u001b[38;5;28mself\u001b[39m\u001b[38;5;241m.\u001b[39moptions[\u001b[38;5;124m\"\u001b[39m\u001b[38;5;124mhas_index_names\u001b[39m\u001b[38;5;124m\"\u001b[39m] \u001b[38;5;241m=\u001b[39m kwds[\u001b[38;5;124m\"\u001b[39m\u001b[38;5;124mhas_index_names\u001b[39m\u001b[38;5;124m\"\u001b[39m]\n\u001b[0;32m   1619\u001b[0m \u001b[38;5;28mself\u001b[39m\u001b[38;5;241m.\u001b[39mhandles: IOHandles \u001b[38;5;241m|\u001b[39m \u001b[38;5;28;01mNone\u001b[39;00m \u001b[38;5;241m=\u001b[39m \u001b[38;5;28;01mNone\u001b[39;00m\n\u001b[1;32m-> 1620\u001b[0m \u001b[38;5;28mself\u001b[39m\u001b[38;5;241m.\u001b[39m_engine \u001b[38;5;241m=\u001b[39m \u001b[38;5;28mself\u001b[39m\u001b[38;5;241m.\u001b[39m_make_engine(f, \u001b[38;5;28mself\u001b[39m\u001b[38;5;241m.\u001b[39mengine)\n",
      "File \u001b[1;32m~\\anaconda3\\Lib\\site-packages\\pandas\\io\\parsers\\readers.py:1880\u001b[0m, in \u001b[0;36mTextFileReader._make_engine\u001b[1;34m(self, f, engine)\u001b[0m\n\u001b[0;32m   1878\u001b[0m     \u001b[38;5;28;01mif\u001b[39;00m \u001b[38;5;124m\"\u001b[39m\u001b[38;5;124mb\u001b[39m\u001b[38;5;124m\"\u001b[39m \u001b[38;5;129;01mnot\u001b[39;00m \u001b[38;5;129;01min\u001b[39;00m mode:\n\u001b[0;32m   1879\u001b[0m         mode \u001b[38;5;241m+\u001b[39m\u001b[38;5;241m=\u001b[39m \u001b[38;5;124m\"\u001b[39m\u001b[38;5;124mb\u001b[39m\u001b[38;5;124m\"\u001b[39m\n\u001b[1;32m-> 1880\u001b[0m \u001b[38;5;28mself\u001b[39m\u001b[38;5;241m.\u001b[39mhandles \u001b[38;5;241m=\u001b[39m get_handle(\n\u001b[0;32m   1881\u001b[0m     f,\n\u001b[0;32m   1882\u001b[0m     mode,\n\u001b[0;32m   1883\u001b[0m     encoding\u001b[38;5;241m=\u001b[39m\u001b[38;5;28mself\u001b[39m\u001b[38;5;241m.\u001b[39moptions\u001b[38;5;241m.\u001b[39mget(\u001b[38;5;124m\"\u001b[39m\u001b[38;5;124mencoding\u001b[39m\u001b[38;5;124m\"\u001b[39m, \u001b[38;5;28;01mNone\u001b[39;00m),\n\u001b[0;32m   1884\u001b[0m     compression\u001b[38;5;241m=\u001b[39m\u001b[38;5;28mself\u001b[39m\u001b[38;5;241m.\u001b[39moptions\u001b[38;5;241m.\u001b[39mget(\u001b[38;5;124m\"\u001b[39m\u001b[38;5;124mcompression\u001b[39m\u001b[38;5;124m\"\u001b[39m, \u001b[38;5;28;01mNone\u001b[39;00m),\n\u001b[0;32m   1885\u001b[0m     memory_map\u001b[38;5;241m=\u001b[39m\u001b[38;5;28mself\u001b[39m\u001b[38;5;241m.\u001b[39moptions\u001b[38;5;241m.\u001b[39mget(\u001b[38;5;124m\"\u001b[39m\u001b[38;5;124mmemory_map\u001b[39m\u001b[38;5;124m\"\u001b[39m, \u001b[38;5;28;01mFalse\u001b[39;00m),\n\u001b[0;32m   1886\u001b[0m     is_text\u001b[38;5;241m=\u001b[39mis_text,\n\u001b[0;32m   1887\u001b[0m     errors\u001b[38;5;241m=\u001b[39m\u001b[38;5;28mself\u001b[39m\u001b[38;5;241m.\u001b[39moptions\u001b[38;5;241m.\u001b[39mget(\u001b[38;5;124m\"\u001b[39m\u001b[38;5;124mencoding_errors\u001b[39m\u001b[38;5;124m\"\u001b[39m, \u001b[38;5;124m\"\u001b[39m\u001b[38;5;124mstrict\u001b[39m\u001b[38;5;124m\"\u001b[39m),\n\u001b[0;32m   1888\u001b[0m     storage_options\u001b[38;5;241m=\u001b[39m\u001b[38;5;28mself\u001b[39m\u001b[38;5;241m.\u001b[39moptions\u001b[38;5;241m.\u001b[39mget(\u001b[38;5;124m\"\u001b[39m\u001b[38;5;124mstorage_options\u001b[39m\u001b[38;5;124m\"\u001b[39m, \u001b[38;5;28;01mNone\u001b[39;00m),\n\u001b[0;32m   1889\u001b[0m )\n\u001b[0;32m   1890\u001b[0m \u001b[38;5;28;01massert\u001b[39;00m \u001b[38;5;28mself\u001b[39m\u001b[38;5;241m.\u001b[39mhandles \u001b[38;5;129;01mis\u001b[39;00m \u001b[38;5;129;01mnot\u001b[39;00m \u001b[38;5;28;01mNone\u001b[39;00m\n\u001b[0;32m   1891\u001b[0m f \u001b[38;5;241m=\u001b[39m \u001b[38;5;28mself\u001b[39m\u001b[38;5;241m.\u001b[39mhandles\u001b[38;5;241m.\u001b[39mhandle\n",
      "File \u001b[1;32m~\\anaconda3\\Lib\\site-packages\\pandas\\io\\common.py:873\u001b[0m, in \u001b[0;36mget_handle\u001b[1;34m(path_or_buf, mode, encoding, compression, memory_map, is_text, errors, storage_options)\u001b[0m\n\u001b[0;32m    868\u001b[0m \u001b[38;5;28;01melif\u001b[39;00m \u001b[38;5;28misinstance\u001b[39m(handle, \u001b[38;5;28mstr\u001b[39m):\n\u001b[0;32m    869\u001b[0m     \u001b[38;5;66;03m# Check whether the filename is to be opened in binary mode.\u001b[39;00m\n\u001b[0;32m    870\u001b[0m     \u001b[38;5;66;03m# Binary mode does not support 'encoding' and 'newline'.\u001b[39;00m\n\u001b[0;32m    871\u001b[0m     \u001b[38;5;28;01mif\u001b[39;00m ioargs\u001b[38;5;241m.\u001b[39mencoding \u001b[38;5;129;01mand\u001b[39;00m \u001b[38;5;124m\"\u001b[39m\u001b[38;5;124mb\u001b[39m\u001b[38;5;124m\"\u001b[39m \u001b[38;5;129;01mnot\u001b[39;00m \u001b[38;5;129;01min\u001b[39;00m ioargs\u001b[38;5;241m.\u001b[39mmode:\n\u001b[0;32m    872\u001b[0m         \u001b[38;5;66;03m# Encoding\u001b[39;00m\n\u001b[1;32m--> 873\u001b[0m         handle \u001b[38;5;241m=\u001b[39m \u001b[38;5;28mopen\u001b[39m(\n\u001b[0;32m    874\u001b[0m             handle,\n\u001b[0;32m    875\u001b[0m             ioargs\u001b[38;5;241m.\u001b[39mmode,\n\u001b[0;32m    876\u001b[0m             encoding\u001b[38;5;241m=\u001b[39mioargs\u001b[38;5;241m.\u001b[39mencoding,\n\u001b[0;32m    877\u001b[0m             errors\u001b[38;5;241m=\u001b[39merrors,\n\u001b[0;32m    878\u001b[0m             newline\u001b[38;5;241m=\u001b[39m\u001b[38;5;124m\"\u001b[39m\u001b[38;5;124m\"\u001b[39m,\n\u001b[0;32m    879\u001b[0m         )\n\u001b[0;32m    880\u001b[0m     \u001b[38;5;28;01melse\u001b[39;00m:\n\u001b[0;32m    881\u001b[0m         \u001b[38;5;66;03m# Binary mode\u001b[39;00m\n\u001b[0;32m    882\u001b[0m         handle \u001b[38;5;241m=\u001b[39m \u001b[38;5;28mopen\u001b[39m(handle, ioargs\u001b[38;5;241m.\u001b[39mmode)\n",
      "\u001b[1;31mFileNotFoundError\u001b[0m: [Errno 2] No such file or directory: '/content/train.csv'"
     ]
    }
   ],
   "source": [
    "\n",
    "# Load the dataset\n",
    "loan_data = pd.read_csv('/content/train.csv')"
   ]
  },
  {
   "cell_type": "code",
   "execution_count": null,
   "metadata": {
    "colab": {
     "base_uri": "https://localhost:8080/",
     "height": 244
    },
    "executionInfo": {
     "elapsed": 493,
     "status": "ok",
     "timestamp": 1726811815983,
     "user": {
      "displayName": "KAUSHAL DWIVEDI[UCOE -4669]",
      "userId": "05485688838310313146"
     },
     "user_tz": -330
    },
    "id": "YMTCd0KRAJ2T",
    "outputId": "d5cbc851-5815-4c1b-c64b-fccc5add78ff"
   },
   "outputs": [],
   "source": [
    "# Display first few rows of the dataset\n",
    "\n",
    "loan_data.head(5)"
   ]
  },
  {
   "cell_type": "code",
   "execution_count": null,
   "metadata": {
    "colab": {
     "base_uri": "https://localhost:8080/"
    },
    "executionInfo": {
     "elapsed": 431,
     "status": "ok",
     "timestamp": 1726811879559,
     "user": {
      "displayName": "KAUSHAL DWIVEDI[UCOE -4669]",
      "userId": "05485688838310313146"
     },
     "user_tz": -330
    },
    "id": "6MwW746LAhgM",
    "outputId": "3cdf4ec3-271a-4abb-ad60-cc402c0ebd2f"
   },
   "outputs": [],
   "source": [
    "# Display basic information about the dataset\n",
    "\n",
    "loan_data.info()"
   ]
  },
  {
   "cell_type": "code",
   "execution_count": null,
   "metadata": {
    "colab": {
     "base_uri": "https://localhost:8080/",
     "height": 320
    },
    "executionInfo": {
     "elapsed": 487,
     "status": "ok",
     "timestamp": 1726811954604,
     "user": {
      "displayName": "KAUSHAL DWIVEDI[UCOE -4669]",
      "userId": "05485688838310313146"
     },
     "user_tz": -330
    },
    "id": "319tc-LBA0VU",
    "outputId": "ea9d1b35-0e58-48e1-9069-94d6a6774f6e"
   },
   "outputs": [],
   "source": [
    "\n",
    "#Generates descriptive statistics for numerical columns in the dataset.\n",
    "loan_data.describe()"
   ]
  },
  {
   "cell_type": "code",
   "execution_count": null,
   "metadata": {
    "colab": {
     "base_uri": "https://localhost:8080/",
     "height": 492
    },
    "executionInfo": {
     "elapsed": 458,
     "status": "ok",
     "timestamp": 1726812155067,
     "user": {
      "displayName": "KAUSHAL DWIVEDI[UCOE -4669]",
      "userId": "05485688838310313146"
     },
     "user_tz": -330
    },
    "id": "fphDAC-OBlhM",
    "outputId": "fff969c0-077f-404e-aeda-2c3281638cb6"
   },
   "outputs": [],
   "source": [
    "# Check for missing values\n",
    "\n",
    "loan_data.isnull().sum()"
   ]
  },
  {
   "cell_type": "code",
   "execution_count": null,
   "metadata": {
    "colab": {
     "base_uri": "https://localhost:8080/",
     "height": 492
    },
    "executionInfo": {
     "elapsed": 460,
     "status": "ok",
     "timestamp": 1726812498081,
     "user": {
      "displayName": "KAUSHAL DWIVEDI[UCOE -4669]",
      "userId": "05485688838310313146"
     },
     "user_tz": -330
    },
    "id": "f4ZOlYwQC5Xb",
    "outputId": "36719cb4-b6b1-44f4-9786-6fbd39db2b99"
   },
   "outputs": [],
   "source": [
    "loan_data.isnull().sum()"
   ]
  },
  {
   "cell_type": "code",
   "execution_count": null,
   "metadata": {
    "executionInfo": {
     "elapsed": 465,
     "status": "ok",
     "timestamp": 1726812467611,
     "user": {
      "displayName": "KAUSHAL DWIVEDI[UCOE -4669]",
      "userId": "05485688838310313146"
     },
     "user_tz": -330
    },
    "id": "aFs0rohhChjU"
   },
   "outputs": [],
   "source": [
    "num_imputer = SimpleImputer(strategy='median')\n",
    "cat_imputer = SimpleImputer(strategy='most_frequent')\n",
    "\n",
    "\n",
    "loan_data['LoanAmount'] = num_imputer.fit_transform(loan_data[['LoanAmount']])\n",
    "loan_data['Loan_Amount_Term'] = num_imputer.fit_transform(loan_data[['Loan_Amount_Term']])\n",
    "loan_data['Credit_History'] = num_imputer.fit_transform(loan_data[['Credit_History']])"
   ]
  },
  {
   "cell_type": "code",
   "execution_count": null,
   "metadata": {
    "executionInfo": {
     "elapsed": 455,
     "status": "ok",
     "timestamp": 1726812552117,
     "user": {
      "displayName": "KAUSHAL DWIVEDI[UCOE -4669]",
      "userId": "05485688838310313146"
     },
     "user_tz": -330
    },
    "id": "eYFkcjJIDGW0"
   },
   "outputs": [],
   "source": [
    "\n",
    "loan_data['Gender'] = cat_imputer.fit_transform(loan_data[['Gender']]).ravel()\n",
    "loan_data['Married'] = cat_imputer.fit_transform(loan_data[['Married']]).ravel()\n",
    "loan_data['Dependents'] = cat_imputer.fit_transform(loan_data[['Dependents']]).ravel()\n",
    "loan_data['Self_Employed'] = cat_imputer.fit_transform(loan_data[['Self_Employed']]).ravel()"
   ]
  },
  {
   "cell_type": "code",
   "execution_count": null,
   "metadata": {
    "colab": {
     "base_uri": "https://localhost:8080/",
     "height": 492
    },
    "executionInfo": {
     "elapsed": 476,
     "status": "ok",
     "timestamp": 1726812575537,
     "user": {
      "displayName": "KAUSHAL DWIVEDI[UCOE -4669]",
      "userId": "05485688838310313146"
     },
     "user_tz": -330
    },
    "id": "jgjxiVwzDMQD",
    "outputId": "dda509cc-d71b-40ab-9e2b-ecbfe18e1d7e"
   },
   "outputs": [],
   "source": [
    "loan_data.isnull().sum()"
   ]
  },
  {
   "cell_type": "code",
   "execution_count": null,
   "metadata": {
    "colab": {
     "base_uri": "https://localhost:8080/",
     "height": 433
    },
    "executionInfo": {
     "elapsed": 540,
     "status": "ok",
     "timestamp": 1726813013287,
     "user": {
      "displayName": "KAUSHAL DWIVEDI[UCOE -4669]",
      "userId": "05485688838310313146"
     },
     "user_tz": -330
    },
    "id": "xbysuObQEtBM",
    "outputId": "6b2379fa-2b71-450e-8f24-dea4ef0ae89e"
   },
   "outputs": [],
   "source": [
    "# Step 3: Outlier Detection and Handling\n",
    "# Box plot for detecting outliers in 'LoanAmount'\n",
    "plt.figure(figsize=(10, 5))\n",
    "sns.boxplot(x=loan_data['LoanAmount'])\n",
    "plt.title('Box plot for Loan Amount')\n",
    "plt.show()"
   ]
  },
  {
   "cell_type": "code",
   "execution_count": null,
   "metadata": {
    "executionInfo": {
     "elapsed": 464,
     "status": "ok",
     "timestamp": 1726813198257,
     "user": {
      "displayName": "KAUSHAL DWIVEDI[UCOE -4669]",
      "userId": "05485688838310313146"
     },
     "user_tz": -330
    },
    "id": "lpOl3LKdFkFE"
   },
   "outputs": [],
   "source": [
    "\n",
    "# Handle outliers (for example, using IQR method (Interquartile Range))\n",
    "Q1 = loan_data['LoanAmount'].quantile(0.25)\n",
    "Q3 = loan_data['LoanAmount'].quantile(0.75)\n",
    "IQR = Q3 - Q1\n",
    "outlier_threshold_low = Q1 - 1.5 * IQR\n",
    "outlier_threshold_high = Q3 + 1.5 * IQR"
   ]
  },
  {
   "cell_type": "code",
   "execution_count": null,
   "metadata": {
    "executionInfo": {
     "elapsed": 450,
     "status": "ok",
     "timestamp": 1726813221388,
     "user": {
      "displayName": "KAUSHAL DWIVEDI[UCOE -4669]",
      "userId": "05485688838310313146"
     },
     "user_tz": -330
    },
    "id": "i37lWky5FpTs"
   },
   "outputs": [],
   "source": [
    "\n",
    "# Filter out outliers\n",
    "loan_data = loan_data[(loan_data['LoanAmount'] >= outlier_threshold_low) & (loan_data['LoanAmount'] <= outlier_threshold_high)]"
   ]
  },
  {
   "cell_type": "code",
   "execution_count": null,
   "metadata": {
    "colab": {
     "base_uri": "https://localhost:8080/",
     "height": 433
    },
    "executionInfo": {
     "elapsed": 490,
     "status": "ok",
     "timestamp": 1726813238542,
     "user": {
      "displayName": "KAUSHAL DWIVEDI[UCOE -4669]",
      "userId": "05485688838310313146"
     },
     "user_tz": -330
    },
    "id": "LI1gR7RfFtwE",
    "outputId": "b528c963-023f-4620-835a-a9b3989f009a"
   },
   "outputs": [],
   "source": [
    "\n",
    "plt.figure(figsize=(10, 5))\n",
    "sns.boxplot(x=loan_data['LoanAmount'])\n",
    "plt.title('Box plot for Loan Amount')\n",
    "plt.show()"
   ]
  },
  {
   "cell_type": "code",
   "execution_count": null,
   "metadata": {
    "colab": {
     "base_uri": "https://localhost:8080/"
    },
    "executionInfo": {
     "elapsed": 478,
     "status": "ok",
     "timestamp": 1726813311540,
     "user": {
      "displayName": "KAUSHAL DWIVEDI[UCOE -4669]",
      "userId": "05485688838310313146"
     },
     "user_tz": -330
    },
    "id": "pm9bilxxF_zY",
    "outputId": "53009721-8227-4b42-a5e4-9d2e101bc2ac"
   },
   "outputs": [],
   "source": [
    "# Step 4: Encode Categorical Variables\n",
    "\n",
    "# Identify categorical columns\n",
    "\n",
    "categorical_cols = loan_data.select_dtypes(include=['object']).columns\n",
    "categorical_cols"
   ]
  },
  {
   "cell_type": "code",
   "execution_count": null,
   "metadata": {
    "executionInfo": {
     "elapsed": 448,
     "status": "ok",
     "timestamp": 1726813346429,
     "user": {
      "displayName": "KAUSHAL DWIVEDI[UCOE -4669]",
      "userId": "05485688838310313146"
     },
     "user_tz": -330
    },
    "id": "a6QT1Jn7GEfc"
   },
   "outputs": [],
   "source": [
    "\n",
    "# Label encoding for categorical variables\n",
    "label_encoders = {}\n",
    "for col in categorical_cols:\n",
    "    le = LabelEncoder()\n",
    "    loan_data[col] = le.fit_transform(loan_data[col])\n",
    "    label_encoders[col] = le"
   ]
  },
  {
   "cell_type": "code",
   "execution_count": null,
   "metadata": {
    "colab": {
     "base_uri": "https://localhost:8080/",
     "height": 226
    },
    "executionInfo": {
     "elapsed": 475,
     "status": "ok",
     "timestamp": 1726813351612,
     "user": {
      "displayName": "KAUSHAL DWIVEDI[UCOE -4669]",
      "userId": "05485688838310313146"
     },
     "user_tz": -330
    },
    "id": "aNfDNrk8GJvD",
    "outputId": "f9254a91-2f52-46c9-d731-567471637d87"
   },
   "outputs": [],
   "source": [
    "\n",
    "# Display first few rows after encoding\n",
    "\n",
    "loan_data.head()"
   ]
  },
  {
   "cell_type": "code",
   "execution_count": null,
   "metadata": {
    "colab": {
     "base_uri": "https://localhost:8080/"
    },
    "executionInfo": {
     "elapsed": 746,
     "status": "ok",
     "timestamp": 1726813488732,
     "user": {
      "displayName": "KAUSHAL DWIVEDI[UCOE -4669]",
      "userId": "05485688838310313146"
     },
     "user_tz": -330
    },
    "id": "IeqRD-4qGqg7",
    "outputId": "350d8bae-b677-4698-abc7-d1d0094b287f"
   },
   "outputs": [],
   "source": [
    "\n",
    "# Step 5: Feature Scaling\n",
    "# Identify numerical columns\n",
    "numerical_cols = loan_data.select_dtypes(include=['int64', 'float64']).columns\n",
    "numerical_cols"
   ]
  },
  {
   "cell_type": "code",
   "execution_count": null,
   "metadata": {
    "executionInfo": {
     "elapsed": 457,
     "status": "ok",
     "timestamp": 1726813516984,
     "user": {
      "displayName": "KAUSHAL DWIVEDI[UCOE -4669]",
      "userId": "05485688838310313146"
     },
     "user_tz": -330
    },
    "id": "ZOHs_kZZGwSM"
   },
   "outputs": [],
   "source": [
    "\n",
    "# Standard scaling for numerical features\n",
    "scaler = StandardScaler()\n",
    "loan_data[numerical_cols] = scaler.fit_transform(loan_data[numerical_cols])"
   ]
  },
  {
   "cell_type": "code",
   "execution_count": null,
   "metadata": {
    "colab": {
     "base_uri": "https://localhost:8080/",
     "height": 226
    },
    "executionInfo": {
     "elapsed": 460,
     "status": "ok",
     "timestamp": 1726813535207,
     "user": {
      "displayName": "KAUSHAL DWIVEDI[UCOE -4669]",
      "userId": "05485688838310313146"
     },
     "user_tz": -330
    },
    "id": "DYJFgyz-G1wN",
    "outputId": "ff2a7b12-7439-48a5-837f-575d3fe56883"
   },
   "outputs": [],
   "source": [
    "loan_data.head(5)"
   ]
  },
  {
   "cell_type": "code",
   "execution_count": null,
   "metadata": {
    "colab": {
     "base_uri": "https://localhost:8080/",
     "height": 709
    },
    "executionInfo": {
     "elapsed": 620,
     "status": "ok",
     "timestamp": 1726813741764,
     "user": {
      "displayName": "KAUSHAL DWIVEDI[UCOE -4669]",
      "userId": "05485688838310313146"
     },
     "user_tz": -330
    },
    "id": "X8h5AArkHmkU",
    "outputId": "b98dff5b-6e15-4d3b-e0eb-51f6e6e9e0eb"
   },
   "outputs": [],
   "source": [
    " #Bar plot for Loan Status\n",
    "loan_status_counts = loan_data['Loan_Status'].value_counts()\n",
    "plt.figure(figsize=(8, 6))\n",
    "loan_status_counts.plot(kind='bar', color='skyblue')\n",
    "plt.title('Loan Status Counts')\n",
    "plt.xlabel('Loan Status')\n",
    "plt.ylabel('Count')\n",
    "plt.show()\n"
   ]
  },
  {
   "cell_type": "code",
   "execution_count": null,
   "metadata": {
    "colab": {
     "base_uri": "https://localhost:8080/",
     "height": 477
    },
    "executionInfo": {
     "elapsed": 527,
     "status": "ok",
     "timestamp": 1726813809741,
     "user": {
      "displayName": "KAUSHAL DWIVEDI[UCOE -4669]",
      "userId": "05485688838310313146"
     },
     "user_tz": -330
    },
    "id": "EPlO6vCJH5sD",
    "outputId": "ebfcadc5-e410-47b1-a169-77aaccc327a0"
   },
   "outputs": [],
   "source": [
    "# Histogram for LoanAmount\n",
    "plt.figure(figsize=(10, 6))\n",
    "plt.hist(loan_data['LoanAmount'].dropna(), bins=30, color='purple', edgecolor='black')\n",
    "plt.title('Distribution of Loan Amount')\n",
    "plt.xlabel('Loan Amount')\n",
    "plt.ylabel('Frequency')\n",
    "plt.show()"
   ]
  },
  {
   "cell_type": "code",
   "execution_count": null,
   "metadata": {
    "colab": {
     "base_uri": "https://localhost:8080/",
     "height": 476
    },
    "executionInfo": {
     "elapsed": 2416,
     "status": "ok",
     "timestamp": 1726813903566,
     "user": {
      "displayName": "KAUSHAL DWIVEDI[UCOE -4669]",
      "userId": "05485688838310313146"
     },
     "user_tz": -330
    },
    "id": "cR6X3KV8IEQZ",
    "outputId": "2ad84f1e-ed9c-47e8-b716-3d0daff3e630"
   },
   "outputs": [],
   "source": [
    "\n",
    "# Scatter plot for LoanAmount vs ApplicantIncome\n",
    "plt.figure(figsize=(10, 6))\n",
    "plt.scatter(loan_data['ApplicantIncome'], loan_data['LoanAmount'], color='green', alpha=0.5)\n",
    "plt.title('Loan Amount vs Applicant Income')\n",
    "plt.xlabel('Applicant Income')\n",
    "plt.ylabel('Loan Amount')\n",
    "plt.show()"
   ]
  },
  {
   "cell_type": "code",
   "execution_count": null,
   "metadata": {
    "colab": {
     "base_uri": "https://localhost:8080/",
     "height": 479
    },
    "executionInfo": {
     "elapsed": 600,
     "status": "ok",
     "timestamp": 1726814037864,
     "user": {
      "displayName": "KAUSHAL DWIVEDI[UCOE -4669]",
      "userId": "05485688838310313146"
     },
     "user_tz": -330
    },
    "id": "wFAaZw-BIxMk",
    "outputId": "ca67bcda-803d-431b-cdd3-f164dea34765"
   },
   "outputs": [],
   "source": [
    "\n",
    "# Box plot for LoanAmount by Education\n",
    "plt.figure(figsize=(12, 6))\n",
    "loan_data.boxplot(column='LoanAmount', by='Education', grid=False)\n",
    "plt.title('Box Plot of Loan Amount by Education')\n",
    "plt.suptitle('')  # Suppress the automatic title to make the custom title stand out\n",
    "plt.xlabel('Education')\n",
    "plt.ylabel('Loan Amount')\n",
    "plt.show()"
   ]
  },
  {
   "cell_type": "code",
   "execution_count": null,
   "metadata": {
    "colab": {
     "base_uri": "https://localhost:8080/",
     "height": 476
    },
    "executionInfo": {
     "elapsed": 908,
     "status": "ok",
     "timestamp": 1726814236379,
     "user": {
      "displayName": "KAUSHAL DWIVEDI[UCOE -4669]",
      "userId": "05485688838310313146"
     },
     "user_tz": -330
    },
    "id": "72g4eta7JhIi",
    "outputId": "0efd553f-287f-4659-8ad9-a21dc93eae45"
   },
   "outputs": [],
   "source": [
    "# Line plot for ApplicantIncome and LoanAmount (assuming the data is sorted)\n",
    "sorted_loan_data = loan_data.sort_values(by='ApplicantIncome')\n",
    "plt.figure(figsize=(10, 6))\n",
    "plt.plot(sorted_loan_data['ApplicantIncome'], sorted_loan_data['LoanAmount'], marker='o', linestyle='-', color='blue')\n",
    "plt.title('Loan Amountc vs Applicant Income')\n",
    "plt.xlabel('Applicant Income')\n",
    "plt.ylabel('Loan Amount')\n",
    "plt.show()"
   ]
  },
  {
   "cell_type": "code",
   "execution_count": null,
   "metadata": {
    "colab": {
     "base_uri": "https://localhost:8080/",
     "height": 518
    },
    "executionInfo": {
     "elapsed": 995,
     "status": "ok",
     "timestamp": 1726814340710,
     "user": {
      "displayName": "KAUSHAL DWIVEDI[UCOE -4669]",
      "userId": "05485688838310313146"
     },
     "user_tz": -330
    },
    "id": "bvJwZAdOJ4sU",
    "outputId": "6ac3d709-ea3a-4034-d67a-6be021ed58ec"
   },
   "outputs": [],
   "source": [
    "plt.figure(figsize=(10, 5))\n",
    "sns.boxplot(x='Education', y='LoanAmount', data=loan_data, palette='Set3')\n",
    "plt.title('Loan Amount by Education')\n",
    "plt.xlabel('Education')\n",
    "plt.ylabel('Loan Amount')\n",
    "plt.show()"
   ]
  },
  {
   "cell_type": "code",
   "execution_count": null,
   "metadata": {
    "colab": {
     "base_uri": "https://localhost:8080/",
     "height": 411
    },
    "executionInfo": {
     "elapsed": 1128,
     "status": "ok",
     "timestamp": 1726814873813,
     "user": {
      "displayName": "KAUSHAL DWIVEDI[UCOE -4669]",
      "userId": "05485688838310313146"
     },
     "user_tz": -330
    },
    "id": "nsSaWwGbLjy8",
    "outputId": "235fdc42-61a8-46f2-b3e3-a486c29061f5"
   },
   "outputs": [],
   "source": [
    "plt.figure(figsize=(10, 5))\n",
    "sns.scatterplot(x='ApplicantIncome', y='LoanAmount', data=loan_data, hue='Loan_Status', palette='Set2')\n",
    "plt.title('Applicant Income vs Loan Amount')\n",
    "plt.xlabel('Applicant Income')\n",
    "plt.ylabel('Loan Amount')\n",
    "plt.show()"
   ]
  },
  {
   "cell_type": "code",
   "execution_count": null,
   "metadata": {
    "colab": {
     "base_uri": "https://localhost:8080/",
     "height": 106
    },
    "executionInfo": {
     "elapsed": 451,
     "status": "error",
     "timestamp": 1726814925652,
     "user": {
      "displayName": "KAUSHAL DWIVEDI[UCOE -4669]",
      "userId": "05485688838310313146"
     },
     "user_tz": -330
    },
    "id": "1EcmSpUVMJEj",
    "outputId": "f5a6bf59-2790-4681-dcc1-9e1369c48147"
   },
   "outputs": [],
   "source": [
    "# Select only numeric columns for correlation matrix\n",
    "numeric_loan_data = loan_data.select_dtypes(include=['number'])\n",
    "\n",
    "# Fill NaN values with the mean of each column\n",
    "numeric_loan_data = numeric_loan_data.fillna(numeric_loan_data.mean())\n",
    "\n",
    "# Calculate the correlation matrix\n",
    "correlation_matrix = numeric_loan_data.corr()\n",
    "\n",
    "# Create the heatmap\n",
    "plt.figure(figsize=(12, 8))\n",
    "sns.heatmap(correlation_matrix, annot=True, cmap='coolwarm', linewidths=0.5)\n",
    "plt.title('Correlation Matrix Heatmap')\n",
    "plt.show()"
   ]
  },
  {
   "cell_type": "code",
   "execution_count": null,
   "metadata": {
    "executionInfo": {
     "elapsed": 436,
     "status": "ok",
     "timestamp": 1726814963100,
     "user": {
      "displayName": "KAUSHAL DWIVEDI[UCOE -4669]",
      "userId": "05485688838310313146"
     },
     "user_tz": -330
    },
    "id": "yl6K_QMCMN68"
   },
   "outputs": [],
   "source": [
    "# Select only numeric columns for correlation matrix\n",
    "numeric_loan_data = loan_data.select_dtypes(include=['number'])"
   ]
  },
  {
   "cell_type": "code",
   "execution_count": null,
   "metadata": {
    "executionInfo": {
     "elapsed": 414,
     "status": "ok",
     "timestamp": 1726814977561,
     "user": {
      "displayName": "KAUSHAL DWIVEDI[UCOE -4669]",
      "userId": "05485688838310313146"
     },
     "user_tz": -330
    },
    "id": "dJjep-UNMUrk"
   },
   "outputs": [],
   "source": [
    "# Fill NaN values with the mean of each column\n",
    "numeric_loan_data = numeric_loan_data.fillna(numeric_loan_data.mean())"
   ]
  },
  {
   "cell_type": "code",
   "execution_count": null,
   "metadata": {
    "executionInfo": {
     "elapsed": 425,
     "status": "ok",
     "timestamp": 1726814984108,
     "user": {
      "displayName": "KAUSHAL DWIVEDI[UCOE -4669]",
      "userId": "05485688838310313146"
     },
     "user_tz": -330
    },
    "id": "kovCtoDwMYSl"
   },
   "outputs": [],
   "source": [
    "\n",
    "# Calculate the correlation matrix\n",
    "correlation_matrix = numeric_loan_data.corr()"
   ]
  },
  {
   "cell_type": "code",
   "execution_count": null,
   "metadata": {
    "colab": {
     "base_uri": "https://localhost:8080/",
     "height": 575
    },
    "executionInfo": {
     "elapsed": 1822,
     "status": "ok",
     "timestamp": 1726815014235,
     "user": {
      "displayName": "KAUSHAL DWIVEDI[UCOE -4669]",
      "userId": "05485688838310313146"
     },
     "user_tz": -330
    },
    "id": "PCX8OiBdMb1m",
    "outputId": "bb5dbc0a-6e7d-43af-e18c-8f8083e469ac"
   },
   "outputs": [],
   "source": [
    "# Create the heatmap\n",
    "plt.figure(figsize=(12, 8))\n",
    "sns.heatmap(correlation_matrix, annot=True, cmap='coolwarm', linewidths=0.5)\n",
    "plt.title('Correlation Matrix Heatmap')\n",
    "plt.show()"
   ]
  },
  {
   "cell_type": "code",
   "execution_count": null,
   "metadata": {
    "colab": {
     "base_uri": "https://localhost:8080/",
     "height": 515
    },
    "executionInfo": {
     "elapsed": 552,
     "status": "ok",
     "timestamp": 1726815040489,
     "user": {
      "displayName": "KAUSHAL DWIVEDI[UCOE -4669]",
      "userId": "05485688838310313146"
     },
     "user_tz": -330
    },
    "id": "sonBBYxzMl1E",
    "outputId": "b05c6d4f-f718-45a3-c8a5-cb50884a02c9"
   },
   "outputs": [],
   "source": [
    "plt.figure(figsize=(10, 5))\n",
    "sns.countplot(x='Gender', data=loan_data, palette='Set3')\n",
    "plt.title('Distribution of Gender')\n",
    "plt.xlabel('Gender')\n",
    "plt.ylabel('Count')\n",
    "plt.show()"
   ]
  },
  {
   "cell_type": "code",
   "execution_count": null,
   "metadata": {
    "colab": {
     "base_uri": "https://localhost:8080/",
     "height": 584
    },
    "executionInfo": {
     "elapsed": 4554,
     "status": "ok",
     "timestamp": 1726815087317,
     "user": {
      "displayName": "KAUSHAL DWIVEDI[UCOE -4669]",
      "userId": "05485688838310313146"
     },
     "user_tz": -330
    },
    "id": "2Tve-X7OMvyd",
    "outputId": "c4d888c6-df3c-49d4-e925-c2154e1f826b"
   },
   "outputs": [],
   "source": [
    "plt.figure(figsize=(10, 5))\n",
    "sns.pairplot(loan_data[['ApplicantIncome', 'CoapplicantIncome', 'LoanAmount', 'Loan_Status']], hue='Loan_Status', palette='Set1')\n",
    "plt.show()"
   ]
  },
  {
   "cell_type": "code",
   "execution_count": null,
   "metadata": {
    "colab": {
     "base_uri": "https://localhost:8080/",
     "height": 518
    },
    "executionInfo": {
     "elapsed": 8,
     "status": "ok",
     "timestamp": 1726815275010,
     "user": {
      "displayName": "KAUSHAL DWIVEDI[UCOE -4669]",
      "userId": "05485688838310313146"
     },
     "user_tz": -330
    },
    "id": "IQzBIJs3NFJk",
    "outputId": "6fb26afd-a045-42c3-fe58-07ab4b851f35"
   },
   "outputs": [],
   "source": [
    "plt.figure(figsize=(10, 5))\n",
    "sns.violinplot(x='Gender', y='LoanAmount', data=loan_data, palette='Set2')\n",
    "plt.title('Loan Amount by Gender')\n",
    "plt.xlabel('Gender')\n",
    "plt.ylabel('Loan Amount')\n",
    "plt.show()"
   ]
  },
  {
   "cell_type": "code",
   "execution_count": null,
   "metadata": {
    "colab": {
     "base_uri": "https://localhost:8080/",
     "height": 546
    },
    "executionInfo": {
     "elapsed": 681,
     "status": "ok",
     "timestamp": 1726815335117,
     "user": {
      "displayName": "KAUSHAL DWIVEDI[UCOE -4669]",
      "userId": "05485688838310313146"
     },
     "user_tz": -330
    },
    "id": "F48nf92ONt3W",
    "outputId": "aeb0b667-6148-40ae-8cb1-8f98734a824f"
   },
   "outputs": [],
   "source": [
    "# Create a factor plot\n",
    "plt.figure(figsize=(12, 8))\n",
    "sns.catplot(x='Gender', y='LoanAmount', hue='Education', kind='bar', data=loan_data)\n",
    "plt.title('Loan Amount Distribution by Gender and Education')\n",
    "plt.xlabel('Gender')\n",
    "plt.ylabel('Loan Amount')\n",
    "plt.show()"
   ]
  },
  {
   "cell_type": "code",
   "execution_count": null,
   "metadata": {
    "colab": {
     "base_uri": "https://localhost:8080/",
     "height": 546
    },
    "executionInfo": {
     "elapsed": 2524,
     "status": "ok",
     "timestamp": 1726815474414,
     "user": {
      "displayName": "KAUSHAL DWIVEDI[UCOE -4669]",
      "userId": "05485688838310313146"
     },
     "user_tz": -330
    },
    "id": "THSGfv8fOPPU",
    "outputId": "bc72b7cd-9d73-408d-b302-37372458b6b1"
   },
   "outputs": [],
   "source": [
    "# Create a catplot\n",
    "plt.figure(figsize=(12, 8))\n",
    "sns.catplot(x='Gender', y='LoanAmount', hue='Education', kind='bar', data=loan_data)\n",
    "plt.title('Loan Amount Distribution by Gender and Education')\n",
    "plt.xlabel('Gender')\n",
    "plt.ylabel('Loan Amount')\n",
    "plt.show()"
   ]
  },
  {
   "cell_type": "code",
   "execution_count": null,
   "metadata": {
    "colab": {
     "base_uri": "https://localhost:8080/",
     "height": 596
    },
    "executionInfo": {
     "elapsed": 1196,
     "status": "ok",
     "timestamp": 1726815551073,
     "user": {
      "displayName": "KAUSHAL DWIVEDI[UCOE -4669]",
      "userId": "05485688838310313146"
     },
     "user_tz": -330
    },
    "id": "AG4WYY2WOiOW",
    "outputId": "6b77e1ed-d315-41cb-89bd-40dee582655d"
   },
   "outputs": [],
   "source": [
    "# Set the style and color palette\n",
    "sns.set(style=\"whitegrid\")\n",
    "palette = sns.color_palette(\"Set2\")\n",
    "\n",
    "# Create a styled catplot\n",
    "plt.figure(figsize=(12, 8))\n",
    "catplot = sns.catplot(x='Gender', y='LoanAmount', hue='Education', kind='bar', data=loan_data, palette=palette, height=6)\n",
    "catplot.set_axis_labels(\"Gender\", \"Loan Amount\")\n",
    "catplot.set_titles(\"Loan Amount Distribution by Gender and Education\")\n",
    "catplot.despine(left=True)\n",
    "\n",
    "# Customize the plot's title\n",
    "plt.title('Styled Loan Amount Distribution by Gender and Education', fontsize=16, weight='bold')\n",
    "plt.show()"
   ]
  },
  {
   "cell_type": "code",
   "execution_count": null,
   "metadata": {
    "colab": {
     "base_uri": "https://localhost:8080/",
     "height": 607
    },
    "executionInfo": {
     "elapsed": 2816,
     "status": "ok",
     "timestamp": 1726815609857,
     "user": {
      "displayName": "KAUSHAL DWIVEDI[UCOE -4669]",
      "userId": "05485688838310313146"
     },
     "user_tz": -330
    },
    "id": "KKTLajK4OwYw",
    "outputId": "5c7e4628-96e4-4f3f-d4f8-81a30a72d455"
   },
   "outputs": [],
   "source": [
    "\n",
    "# Set the style for the plots\n",
    "sns.set(style=\"whitegrid\")\n",
    "\n",
    "# Create a FacetGrid for LoanAmount by Education and Gender\n",
    "g = sns.FacetGrid(loan_data, col=\"Education\", row=\"Gender\", margin_titles=True)\n",
    "g.map(plt.hist, \"LoanAmount\", bins=20, color=\"steelblue\")\n",
    "\n",
    "# Add titles and labels\n",
    "g.fig.suptitle('Distribution of Loan Amount by Education and Gender', fontsize=16, weight='bold')\n",
    "g.set_axis_labels(\"Loan Amount\", \"Frequency\")\n",
    "g.set_titles(col_template=\"{col_name} Education\", row_template=\"{row_name} Gender\")\n",
    "\n",
    "# Adjust the layout\n",
    "g.fig.tight_layout(rect=[0, 0, 1, 0.95])"
   ]
  }
 ],
 "metadata": {
  "colab": {
   "authorship_tag": "ABX9TyP36Ssq51eJtpQSoXk8jjVC",
   "provenance": []
  },
  "kernelspec": {
   "display_name": "Python 3 (ipykernel)",
   "language": "python",
   "name": "python3"
  },
  "language_info": {
   "codemirror_mode": {
    "name": "ipython",
    "version": 3
   },
   "file_extension": ".py",
   "mimetype": "text/x-python",
   "name": "python",
   "nbconvert_exporter": "python",
   "pygments_lexer": "ipython3",
   "version": "3.12.4"
  }
 },
 "nbformat": 4,
 "nbformat_minor": 4
}
